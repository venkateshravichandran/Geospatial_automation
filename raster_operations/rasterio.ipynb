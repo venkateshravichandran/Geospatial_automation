{
 "cells": [
  {
   "cell_type": "code",
   "execution_count": null,
   "id": "22b1ff1f-cb9c-4414-a49b-7a14e0463357",
   "metadata": {},
   "outputs": [],
   "source": [
    "import rasterio as rio\n",
    "import matplotlib.pyplot as plt"
   ]
  },
  {
   "cell_type": "code",
   "execution_count": null,
   "id": "cd12af9d-c35c-4f6f-bed5-30ea4a7f8731",
   "metadata": {},
   "outputs": [],
   "source": [
    "print('Rasterio Version:',rio.__version__)"
   ]
  },
  {
   "cell_type": "markdown",
   "id": "6310a55b-2c39-4c4b-8439-96342276cf06",
   "metadata": {},
   "source": [
    "## Open an image\n",
    "\n",
    "When we open an image in rasterio we create a Dataset object. As the name would suggest, we can open an image with the \"open\" function within rasterio."
   ]
  },
  {
   "cell_type": "code",
   "execution_count": 3,
   "id": "3ab82b83-ee89-4514-a781-56e527c6b533",
   "metadata": {},
   "outputs": [
    {
     "data": {
      "text/plain": [
       "<open DatasetReader name='./data/Amreli_July_2024.tif' mode='r'>"
      ]
     },
     "execution_count": 3,
     "metadata": {},
     "output_type": "execute_result"
    }
   ],
   "source": [
    "## tif image path\n",
    "image_path = \"./data/Amreli_July_2024.tif\"\n",
    "\n",
    "## Opeinng a geospatila dataset\n",
    "\n",
    "## dataset is rasterio Dataset object created, which contains more attributes and methods\n",
    "dataset = rio.open(image_path)\n",
    "dataset\n",
    "# Now that we have this dataset open in 'r' (read) mode as dataset object."
   ]
  },
  {
   "cell_type": "markdown",
   "id": "3c3fcce8-bccf-414d-9f9e-3c2f338a743c",
   "metadata": {},
   "source": [
    "## Image Attributes"
   ]
  },
  {
   "cell_type": "code",
   "execution_count": 4,
   "id": "addf939f-60e5-494b-9c50-7175dc7d7211",
   "metadata": {},
   "outputs": [
    {
     "name": "stdout",
     "output_type": "stream",
     "text": [
      "Image filename: ./data/Amreli_July_2024.tif\n",
      "\n",
      "No of band:  5\n",
      "\n",
      "Actual shape of the raster: (13788, 10624) and the rows:-> 13788 & columns:-> 10624\n",
      "\n",
      "Band descriptions:  ('B2', 'B3', 'B4', 'B8', 'B9')\n",
      "\n",
      "Raster driver: GTiff\n",
      "\n",
      "Raster CRS: EPSG:4326\n",
      "\n",
      "Raster metadata:  {'driver': 'GTiff', 'dtype': 'uint16', 'nodata': None, 'width': 10624, 'height': 13788, 'count': 5, 'crs': CRS.from_epsg(4326), 'transform': Affine(8.983152841195215e-05, 0.0, 70.73622008048031,\n",
      "       0.0, -8.983152841195215e-05, 22.04205195796911)}\n",
      "\n",
      "Raster profile:  {'driver': 'GTiff', 'dtype': 'uint16', 'nodata': None, 'width': 10624, 'height': 13788, 'count': 5, 'crs': CRS.from_epsg(4326), 'transform': Affine(8.983152841195215e-05, 0.0, 70.73622008048031,\n",
      "       0.0, -8.983152841195215e-05, 22.04205195796911), 'blockxsize': 256, 'blockysize': 256, 'tiled': True, 'compress': 'lzw', 'interleave': 'pixel'}\n",
      "\n",
      "Raster transform: | 0.00, 0.00, 70.74|\n",
      "| 0.00,-0.00, 22.04|\n",
      "| 0.00, 0.00, 1.00|\n"
     ]
    }
   ],
   "source": [
    "# name attribute returns the raster file name\n",
    "image_name = dataset.name\n",
    "print('Image filename:', image_name)\n",
    "\n",
    "# count returns the number of bands\n",
    "count = dataset.count\n",
    "print('\\nNo of band: ',count)\n",
    "\n",
    "# shape returns the tuples of rows and columns\n",
    "row,col = dataset.shape\n",
    "print(f'\\nActual shape of the raster: {dataset.shape} and the rows:-> {row} & columns:-> {col}')\n",
    "\n",
    "# description returns the bands names\n",
    "des = dataset.descriptions\n",
    "print('\\nBand descriptions: ',des)\n",
    "\n",
    "# driver return the data extension\n",
    "driver = dataset.driver\n",
    "print('\\nRaster driver:',driver)\n",
    "\n",
    "# crs retunrs Coordinate reference system of the raster\n",
    "crs = dataset.crs\n",
    "print('\\nRaster CRS:',crs)\n",
    "\n",
    "# meta returns the metadata of the raster\n",
    "metadata = dataset.meta\n",
    "print('\\nRaster metadata: ',metadata)\n",
    "\n",
    "# profile returns the similar to meta attribute.\n",
    "profile = dataset.profile\n",
    "print('\\nRaster profile: ',profile)\n",
    "\n",
    "# transform returns raster affine details (how raster is scaled, rotated, skewed, and/or translated)\n",
    "transform = dataset.transform\n",
    "print('\\nRaster transform:',transform)"
   ]
  },
  {
   "cell_type": "markdown",
   "id": "ac222eba-c065-47e7-a6c4-497d33dc82a3",
   "metadata": {},
   "source": [
    "## Image raster bands\n",
    "##### The rasterio Dataset object we created contains a lot of useful information but it is not directly used to read in the raster image. Instead we will need to access the raster's bands using the read() method:"
   ]
  },
  {
   "cell_type": "code",
   "execution_count": 23,
   "id": "2e5967bf-110d-40c8-9780-1e213ad74c1f",
   "metadata": {},
   "outputs": [
    {
     "name": "stdout",
     "output_type": "stream",
     "text": [
      "Printing the data as Array:\n",
      " [[0 0 0 ... 0 0 0]\n",
      " [0 0 0 ... 0 0 0]\n",
      " [0 0 0 ... 0 0 0]\n",
      " ...\n",
      " [0 0 0 ... 0 0 0]\n",
      " [0 0 0 ... 0 0 0]\n",
      " [0 0 0 ... 0 0 0]]\n",
      "\n",
      "Printing the data dimension: (13788, 10624)\n",
      "\n",
      "Printing full dataset:\n",
      " [[[0 0 0 ... 0 0 0]\n",
      "  [0 0 0 ... 0 0 0]\n",
      "  [0 0 0 ... 0 0 0]\n",
      "  ...\n",
      "  [0 0 0 ... 0 0 0]\n",
      "  [0 0 0 ... 0 0 0]\n",
      "  [0 0 0 ... 0 0 0]]\n",
      "\n",
      " [[0 0 0 ... 0 0 0]\n",
      "  [0 0 0 ... 0 0 0]\n",
      "  [0 0 0 ... 0 0 0]\n",
      "  ...\n",
      "  [0 0 0 ... 0 0 0]\n",
      "  [0 0 0 ... 0 0 0]\n",
      "  [0 0 0 ... 0 0 0]]\n",
      "\n",
      " [[0 0 0 ... 0 0 0]\n",
      "  [0 0 0 ... 0 0 0]\n",
      "  [0 0 0 ... 0 0 0]\n",
      "  ...\n",
      "  [0 0 0 ... 0 0 0]\n",
      "  [0 0 0 ... 0 0 0]\n",
      "  [0 0 0 ... 0 0 0]]\n",
      "\n",
      " [[0 0 0 ... 0 0 0]\n",
      "  [0 0 0 ... 0 0 0]\n",
      "  [0 0 0 ... 0 0 0]\n",
      "  ...\n",
      "  [0 0 0 ... 0 0 0]\n",
      "  [0 0 0 ... 0 0 0]\n",
      "  [0 0 0 ... 0 0 0]]\n",
      "\n",
      " [[0 0 0 ... 0 0 0]\n",
      "  [0 0 0 ... 0 0 0]\n",
      "  [0 0 0 ... 0 0 0]\n",
      "  ...\n",
      "  [0 0 0 ... 0 0 0]\n",
      "  [0 0 0 ... 0 0 0]\n",
      "  [0 0 0 ... 0 0 0]]]\n",
      "\n",
      "Shape of full dataset: (5, 13788, 10624)\n"
     ]
    }
   ],
   "source": [
    "## Openning a 1st band of the dataset (Green band here).\n",
    "\n",
    "band_1 = dataset.read(1)\n",
    "\n",
    "## Printing the data as Array.\n",
    "print('Printing the data as Array:\\n',band_1)\n",
    "\n",
    "print('\\nPrinting the data dimension:', band_1.shape)\n",
    "\n",
    "full_image = dataset.read()\n",
    "\n",
    "print('\\nPrinting full dataset:\\n',full_image)\n",
    "\n",
    "print('\\nShape of full dataset:',dataset.read().shape)"
   ]
  },
  {
   "cell_type": "code",
   "execution_count": 22,
   "id": "0fd23e33-c2cc-4b46-abcf-3d94eb40820c",
   "metadata": {},
   "outputs": [
    {
     "name": "stdout",
     "output_type": "stream",
     "text": [
      "datatype:  uint16\n"
     ]
    }
   ],
   "source": [
    "## Checking the array datatype.\n",
    "print('datatype: ', band_1.dtype)"
   ]
  },
  {
   "cell_type": "code",
   "execution_count": 11,
   "id": "9afcfd97-c368-438c-a88b-32736e361710",
   "metadata": {},
   "outputs": [
    {
     "data": {
      "text/plain": [
       "<open DatasetReader name='./data/Amreli_July_2024.tif' mode='r'>"
      ]
     },
     "execution_count": 11,
     "metadata": {},
     "output_type": "execute_result"
    }
   ],
   "source": [
    "dataset"
   ]
  },
  {
   "cell_type": "code",
   "execution_count": 13,
   "id": "cbbbcfd4-810f-49f9-8e41-728da203b1f9",
   "metadata": {},
   "outputs": [
    {
     "data": {
      "text/plain": [
       "Band(ds=<open DatasetReader name='./data/Amreli_July_2024.tif' mode='r'>, bidx=1, dtype='uint16', shape=(13788, 10624))"
      ]
     },
     "execution_count": 13,
     "metadata": {},
     "output_type": "execute_result"
    }
   ],
   "source": [
    "rio.band(dataset,1)"
   ]
  }
 ],
 "metadata": {
  "kernelspec": {
   "display_name": "Python 3 (ipykernel)",
   "language": "python",
   "name": "python3"
  },
  "language_info": {
   "codemirror_mode": {
    "name": "ipython",
    "version": 3
   },
   "file_extension": ".py",
   "mimetype": "text/x-python",
   "name": "python",
   "nbconvert_exporter": "python",
   "pygments_lexer": "ipython3",
   "version": "3.11.9"
  }
 },
 "nbformat": 4,
 "nbformat_minor": 5
}
