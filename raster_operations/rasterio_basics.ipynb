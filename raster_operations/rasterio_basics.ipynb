{
 "cells": [
  {
   "cell_type": "code",
   "execution_count": 1,
   "id": "22b1ff1f-cb9c-4414-a49b-7a14e0463357",
   "metadata": {},
   "outputs": [],
   "source": [
    "import rasterio as rio\n",
    "import matplotlib.pyplot as plt"
   ]
  },
  {
   "cell_type": "code",
   "execution_count": 2,
   "id": "cd12af9d-c35c-4f6f-bed5-30ea4a7f8731",
   "metadata": {},
   "outputs": [
    {
     "name": "stdout",
     "output_type": "stream",
     "text": [
      "Rasterio Version: 1.3.6\n"
     ]
    }
   ],
   "source": [
    "print('Rasterio Version:',rio.__version__)"
   ]
  },
  {
   "cell_type": "markdown",
   "id": "6310a55b-2c39-4c4b-8439-96342276cf06",
   "metadata": {},
   "source": [
    "## Open an image\n",
    "\n",
    "When we open an image in rasterio we create a Dataset object. As the name would suggest, we can open an image with the \"open\" function within rasterio."
   ]
  },
  {
   "cell_type": "code",
   "execution_count": 3,
   "id": "3ab82b83-ee89-4514-a781-56e527c6b533",
   "metadata": {},
   "outputs": [
    {
     "data": {
      "text/plain": [
       "<open DatasetReader name='./data/Amreli_July_2024.tif' mode='r'>"
      ]
     },
     "execution_count": 3,
     "metadata": {},
     "output_type": "execute_result"
    }
   ],
   "source": [
    "## tif image path\n",
    "image_path = \"./data/Amreli_July_2024.tif\"\n",
    "\n",
    "## Opeinng a geospatila dataset\n",
    "\n",
    "## dataset is rasterio Dataset object created, which contains more attributes and methods\n",
    "dataset = rio.open(image_path)\n",
    "dataset\n",
    "# Now that we have this dataset open in 'r' (read) mode as dataset object."
   ]
  },
  {
   "cell_type": "markdown",
   "id": "3c3fcce8-bccf-414d-9f9e-3c2f338a743c",
   "metadata": {},
   "source": [
    "## Image Attributes"
   ]
  },
  {
   "cell_type": "code",
   "execution_count": 4,
   "id": "addf939f-60e5-494b-9c50-7175dc7d7211",
   "metadata": {},
   "outputs": [
    {
     "name": "stdout",
     "output_type": "stream",
     "text": [
      "Image filename: ./data/Amreli_July_2024.tif\n",
      "\n",
      "No of band:  5\n",
      "\n",
      "Actual shape of the raster: (13788, 10624) and the rows:-> 13788 & columns:-> 10624\n",
      "\n",
      "Band descriptions:  ('B2', 'B3', 'B4', 'B8', 'B9')\n",
      "\n",
      "Raster driver: GTiff\n",
      "\n",
      "Raster CRS: EPSG:4326\n",
      "\n",
      "Raster metadata:  {'driver': 'GTiff', 'dtype': 'uint16', 'nodata': None, 'width': 10624, 'height': 13788, 'count': 5, 'crs': CRS.from_epsg(4326), 'transform': Affine(8.983152841195215e-05, 0.0, 70.73622008048031,\n",
      "       0.0, -8.983152841195215e-05, 22.04205195796911)}\n",
      "\n",
      "Raster profile:  {'driver': 'GTiff', 'dtype': 'uint16', 'nodata': None, 'width': 10624, 'height': 13788, 'count': 5, 'crs': CRS.from_epsg(4326), 'transform': Affine(8.983152841195215e-05, 0.0, 70.73622008048031,\n",
      "       0.0, -8.983152841195215e-05, 22.04205195796911), 'blockxsize': 256, 'blockysize': 256, 'tiled': True, 'compress': 'lzw', 'interleave': 'pixel'}\n",
      "\n",
      "Raster transform: | 0.00, 0.00, 70.74|\n",
      "| 0.00,-0.00, 22.04|\n",
      "| 0.00, 0.00, 1.00|\n"
     ]
    }
   ],
   "source": [
    "# name attribute returns the raster file name\n",
    "image_name = dataset.name\n",
    "print('Image filename:', image_name)\n",
    "\n",
    "# count returns the number of bands\n",
    "count = dataset.count\n",
    "print('\\nNo of band: ',count)\n",
    "\n",
    "# shape returns the tuples of rows and columns\n",
    "row,col = dataset.shape\n",
    "print(f'\\nActual shape of the raster: {dataset.shape} and the rows:-> {row} & columns:-> {col}')\n",
    "\n",
    "# description returns the bands names\n",
    "des = dataset.descriptions\n",
    "print('\\nBand descriptions: ',des)\n",
    "\n",
    "# driver return the data extension\n",
    "driver = dataset.driver\n",
    "print('\\nRaster driver:',driver)\n",
    "\n",
    "# crs retunrs Coordinate reference system of the raster\n",
    "crs = dataset.crs\n",
    "print('\\nRaster CRS:',crs)\n",
    "\n",
    "# meta returns the metadata of the raster\n",
    "metadata = dataset.meta\n",
    "print('\\nRaster metadata: ',metadata)\n",
    "\n",
    "# profile returns the similar to meta attribute.\n",
    "profile = dataset.profile\n",
    "print('\\nRaster profile: ',profile)\n",
    "\n",
    "# transform returns raster affine details (how raster is scaled, rotated, skewed, and/or translated)\n",
    "transform = dataset.transform\n",
    "print('\\nRaster transform:',transform)"
   ]
  },
  {
   "cell_type": "markdown",
   "id": "ac222eba-c065-47e7-a6c4-497d33dc82a3",
   "metadata": {},
   "source": [
    "## Image raster bands\n",
    "##### The rasterio Dataset object we created contains a lot of useful information but it is not directly used to read in the raster image. Instead we will need to access the raster's bands using the read() method:"
   ]
  },
  {
   "cell_type": "code",
   "execution_count": 23,
   "id": "2e5967bf-110d-40c8-9780-1e213ad74c1f",
   "metadata": {},
   "outputs": [
    {
     "name": "stdout",
     "output_type": "stream",
     "text": [
      "Printing the data as Array:\n",
      " [[0 0 0 ... 0 0 0]\n",
      " [0 0 0 ... 0 0 0]\n",
      " [0 0 0 ... 0 0 0]\n",
      " ...\n",
      " [0 0 0 ... 0 0 0]\n",
      " [0 0 0 ... 0 0 0]\n",
      " [0 0 0 ... 0 0 0]]\n",
      "\n",
      "Printing the data dimension: (13788, 10624)\n",
      "\n",
      "Printing full dataset:\n",
      " [[[0 0 0 ... 0 0 0]\n",
      "  [0 0 0 ... 0 0 0]\n",
      "  [0 0 0 ... 0 0 0]\n",
      "  ...\n",
      "  [0 0 0 ... 0 0 0]\n",
      "  [0 0 0 ... 0 0 0]\n",
      "  [0 0 0 ... 0 0 0]]\n",
      "\n",
      " [[0 0 0 ... 0 0 0]\n",
      "  [0 0 0 ... 0 0 0]\n",
      "  [0 0 0 ... 0 0 0]\n",
      "  ...\n",
      "  [0 0 0 ... 0 0 0]\n",
      "  [0 0 0 ... 0 0 0]\n",
      "  [0 0 0 ... 0 0 0]]\n",
      "\n",
      " [[0 0 0 ... 0 0 0]\n",
      "  [0 0 0 ... 0 0 0]\n",
      "  [0 0 0 ... 0 0 0]\n",
      "  ...\n",
      "  [0 0 0 ... 0 0 0]\n",
      "  [0 0 0 ... 0 0 0]\n",
      "  [0 0 0 ... 0 0 0]]\n",
      "\n",
      " [[0 0 0 ... 0 0 0]\n",
      "  [0 0 0 ... 0 0 0]\n",
      "  [0 0 0 ... 0 0 0]\n",
      "  ...\n",
      "  [0 0 0 ... 0 0 0]\n",
      "  [0 0 0 ... 0 0 0]\n",
      "  [0 0 0 ... 0 0 0]]\n",
      "\n",
      " [[0 0 0 ... 0 0 0]\n",
      "  [0 0 0 ... 0 0 0]\n",
      "  [0 0 0 ... 0 0 0]\n",
      "  ...\n",
      "  [0 0 0 ... 0 0 0]\n",
      "  [0 0 0 ... 0 0 0]\n",
      "  [0 0 0 ... 0 0 0]]]\n",
      "\n",
      "Shape of full dataset: (5, 13788, 10624)\n"
     ]
    }
   ],
   "source": [
    "## Openning a 1st band of the dataset (Green band here).\n",
    "\n",
    "band_1 = dataset.read(1)\n",
    "\n",
    "## Printing the data as Array.\n",
    "print('Printing the data as Array:\\n',band_1)\n",
    "\n",
    "print('\\nPrinting the data dimension:', band_1.shape)\n",
    "\n",
    "full_image = dataset.read()\n",
    "\n",
    "print('\\nPrinting full dataset:\\n',full_image)\n",
    "\n",
    "print('\\nShape of full dataset:',dataset.read().shape)"
   ]
  },
  {
   "cell_type": "code",
   "execution_count": 22,
   "id": "0fd23e33-c2cc-4b46-abcf-3d94eb40820c",
   "metadata": {},
   "outputs": [
    {
     "name": "stdout",
     "output_type": "stream",
     "text": [
      "datatype:  uint16\n"
     ]
    }
   ],
   "source": [
    "## Checking the array datatype.\n",
    "print('datatype: ', band_1.dtype)"
   ]
  },
  {
   "cell_type": "markdown",
   "id": "9afcfd97-c368-438c-a88b-32736e361710",
   "metadata": {},
   "source": [
    "## Raster read and writing"
   ]
  },
  {
   "cell_type": "markdown",
   "id": "f36c0578",
   "metadata": {},
   "source": [
    "Single-band Raster Read and Write Function"
   ]
  },
  {
   "cell_type": "code",
   "execution_count": 6,
   "id": "3f5cd540",
   "metadata": {},
   "outputs": [],
   "source": [
    "import rasterio as rio\n",
    "\n",
    "def raster_read_write_single_band(input_path, output_path):\n",
    "    # Open the input single-band raster file\n",
    "    with rio.open(input_path) as src:\n",
    "        # Read the first (and only) band of the raster\n",
    "\n",
    "        data = src.read(1)  # The argument '1' specifies the first band (1-based indexing)\n",
    "        \n",
    "        profile = src.profile  # Get the metadata (profile) of the raster\n",
    "\n",
    "        # Ensure we only write a single band\n",
    "        profile.update(count=1)  # Update the profile to specify that there's only 1 band\n",
    "\n",
    "    # Open the output raster file in write mode with the updated profile\n",
    "    with rio.open(output_path, 'w', **profile) as dst:\n",
    "        \n",
    "        dst.write(data, 1)  # Write the data to the first band of the output file\n",
    "\n",
    "# Example usage\n",
    "raster_path = \"E:/ss_codes/My_Virtual_env/GT_QAQC/codes/my_learning/Geospatial/raster_operations/DATA/single_band_input.tif\"\n",
    "out_path = \"E:/ss_codes/My_Virtual_env/GT_QAQC/codes/my_learning/Geospatial/raster_operations/DATA/single_band_output.tif\"\n",
    "\n",
    "raster_read_write_single_band(raster_path, out_path)\n"
   ]
  },
  {
   "cell_type": "markdown",
   "id": "61485e84",
   "metadata": {},
   "source": [
    "Multi-band Raster Read and Write Function"
   ]
  },
  {
   "cell_type": "code",
   "execution_count": 7,
   "id": "44b2c9c1",
   "metadata": {},
   "outputs": [],
   "source": [
    "import rasterio as rio\n",
    "\n",
    "def raster_read_write(input_path, out_path):\n",
    "    # Open the input raster file\n",
    "    with rio.open(input_path) as src:\n",
    "\n",
    "        # Read all bands of the raster into a NumPy array\n",
    "        data = src.read()\n",
    "\n",
    "        # Get the metadata (profile) of the raster (CRS, transform, dtype, etc.)\n",
    "        profile = src.profile\n",
    "\n",
    "    # Open the output raster file in write mode using the same profile\n",
    "    with rio.open(out_path, 'w', **profile) as dst:\n",
    "        dst.write(data)  # Write the data to the output file, keeping the same profile\n",
    "\n",
    "# Paths to the input and output raster files\n",
    "raster_path = \"E:/ss_codes/My_Virtual_env/GT_QAQC/codes/my_learning/Geospatial/raster_operations/DATA/test_data.tif\"\n",
    "out_path = \"E:/ss_codes/My_Virtual_env/GT_QAQC/codes/my_learning/Geospatial/raster_operations/DATA/test_out_data.tif\"\n",
    "\n",
    "# Call the function to read the input raster and write it to a new file\n",
    "raster_read_write(raster_path, out_path)"
   ]
  },
  {
   "cell_type": "markdown",
   "id": "193096e8",
   "metadata": {},
   "source": [
    "### Raster Reprojection"
   ]
  },
  {
   "cell_type": "markdown",
   "id": "4ed02595",
   "metadata": {},
   "source": [
    "Reprojecting a GeoTIFF dataset from one coordinate reference system to another."
   ]
  },
  {
   "cell_type": "code",
   "execution_count": 6,
   "id": "d9ed347b",
   "metadata": {},
   "outputs": [],
   "source": [
    "import rasterio as rio\n",
    "from rasterio.warp import calculate_default_transform, Resampling, reproject\n",
    "\n",
    "def _reproject_raster(inpath, outpath, dst_crs):\n",
    "    with rio.open(inpath) as src:\n",
    "        transform, width, height = calculate_default_transform(\n",
    "            src.crs, dst_crs, src.width, src.height, *src.bounds)\n",
    "        kwargs = src.meta.copy()\n",
    "        kwargs.update({\n",
    "            'crs': dst_crs,\n",
    "            'transform': transform,\n",
    "            'width': width,\n",
    "            'height': height,\n",
    "            'compress': 'lzw'\n",
    "        })\n",
    "\n",
    "        with rio.open(outpath, 'w', **kwargs) as dst:\n",
    "            for i in range(1, src.count + 1):\n",
    "                reproject(\n",
    "                    source=rio.band(src, i),\n",
    "                    destination=rio.band(dst, i),\n",
    "                    src_transform=src.transform,\n",
    "                    src_crs=src.crs,\n",
    "                    dst_transform=transform,\n",
    "                    dst_crs=dst_crs,\n",
    "                    resampling=Resampling.nearest)\n",
    "                \n",
    "## dirctory paths\n",
    "inpath = \"E:/ss_codes/My_Virtual_env/GT_QAQC/codes/my_learning/Geospatial/raster_operations/DATA/test_data.tif\"\n",
    "out_path = \"E:/ss_codes/My_Virtual_env/GT_QAQC/codes/my_learning/Geospatial/raster_operations/DATA/test_repro_data.tif\"\n",
    "_reproject_raster(inpath=inpath, outpath=out_path, dst_crs=\"EPSG:4326\")"
   ]
  },
  {
   "cell_type": "markdown",
   "id": "39b0d275",
   "metadata": {},
   "source": [
    "<small>\n",
    "  <code>transform, width, height = calculate_default_transform(src.crs, dst_crs, src.width, src.height, *src.bounds)</code>\n",
    "\n",
    "  - **src.crs**: The current CRS of the input raster.\n",
    "  - **dst_crs**: The target CRS to which the raster will be reprojected.\n",
    "  - **src.width**: The width (number of columns) of the raster.\n",
    "  - **src.height**: The height (number of rows) of the raster.\n",
    "  - **src.bounds**: The bounding box of the raster in the source CRS.\n",
    "\n",
    "  <code>calculate_default_transform</code>: This function computes the transformation matrix, as well as the new width and height, for the raster in the destination CRS. The transformation matrix (transform) describes how to map pixel coordinates in the destination CRS to geographic coordinates. The new width and height are the dimensions of the raster in the target CRS.\\\n",
    "<br>\n",
    "\n",
    "  <code>kwargs = src.meta.copy()</code> Copies the metadata (meta) of the source raster (src). src.meta includes essential information like the CRS, width, height, data type, etc. This copy (kwargs) will be modified for the output raster.\n",
    "\n",
    "<br>\n",
    "\n",
    "  <code>kwargs.update({\n",
    "      'crs': dst_crs,\n",
    "      'transform': transform,\n",
    "      'width': width,\n",
    "      'height': height,\n",
    "      'compress': 'lzw'\n",
    "  })</code>\n",
    "<br>\n",
    "\n",
    "Updates the copied metadata `(kwargs)` to reflect the new CRS, transformation matrix, and raster dimensions:\n",
    "  - `'crs'`: dst_crs: Update the CRS to the destination CRS.\n",
    "  - `'transform'`: `transform`: Apply the new transformation matrix for the target CRS.\n",
    "  - `'width'`: width: Set the new width based on the reprojected dimensions.\n",
    "  - `'height'`: height: Set the new height based on the reprojected dimensions.\n",
    "  - `'compress'`: 'lzw': Use LZW compression for the output file to reduce file size.\n",
    "\n",
    "<br>\n",
    "\n",
    "`with rio.open(outpath, 'w', **kwargs) as dst:` Opens a new raster file (outpath) for writing. The metadata (kwargs) is passed to define the properties of the output file, like the CRS, dimensions, and compression. This creates a new raster file with the updated information.\n",
    "\n",
    "<br>\n",
    "\n",
    "`for i in range(1, src.count + 1):`  `src.count`: Refers to the number of bands in the source raster. This loop iterates over each band (starting from 1) in the source raster.\n",
    "\n",
    "<br>\n",
    "\n",
    "<code>\n",
    "  reproject(  <br>\n",
    "      &nbsp;&nbsp;&nbsp;&nbsp;&nbsp;&nbsp;&nbsp;&nbsp;&nbsp source=rio.band(src, i),<br>\n",
    "      &nbsp;&nbsp;&nbsp;&nbsp;&nbsp;&nbsp;&nbsp;&nbsp;&nbsp destination=rio.band(dst, i),<br>\n",
    "      &nbsp;&nbsp;&nbsp;&nbsp;&nbsp;&nbsp;&nbsp;&nbsp;&nbsp src_transform=src.transform,<br>\n",
    "      &nbsp;&nbsp;&nbsp;&nbsp;&nbsp;&nbsp;&nbsp;&nbsp;&nbsp src_crs=src.crs,<br>\n",
    "      &nbsp;&nbsp;&nbsp;&nbsp;&nbsp;&nbsp;&nbsp;&nbsp;&nbsp dst_transform=transform,<br>\n",
    "      &nbsp;&nbsp;&nbsp;&nbsp;&nbsp;&nbsp;&nbsp;&nbsp;&nbsp dst_crs=dst_crs,<br>\n",
    "      &nbsp;&nbsp;&nbsp;&nbsp;&nbsp;&nbsp;&nbsp;&nbsp;&nbsp resampling=Resampling.nearest)\n",
    "\n",
    "</code>\n",
    "\n",
    "<br>\n",
    "\n",
    "  - `source=rio.band(src, i)`: The input data for the i-th band from the source raster.\n",
    "  - `destination=rio.band(dst, i)`: The target data for the i-th band in the destination raster.\n",
    "  - `src_transform=src.transform`: The transformation matrix of the source raster, which describes how pixel coordinates are mapped to geographic coordinates in the original CRS.\n",
    "  - `src_crs=src.crs`: The CRS of the source raster.\n",
    "  - `dst_transform=transform`: The new transformation matrix for the target CRS.\n",
    "  - `dst_crs=dst_crs`: The target CRS for reprojection.\n",
    "  - `resampling=Resampling.nearest`: Specifies the resampling method, which is nearest-neighbor interpolation in this case. This method is fast and suitable for discrete data like land cover classifications.\n",
    "\n",
    "\n",
    "\n",
    "</small>\n"
   ]
  },
  {
   "cell_type": "markdown",
   "id": "3b7d3764",
   "metadata": {},
   "source": [
    "1. Reprojection\n",
    "2. Resampling\n",
    "3. Zonal Statistics\n",
    "4. Raster Algebra\n",
    "5. Clipping\n",
    "6. Masking\n",
    "7. Mosaicking"
   ]
  }
 ],
 "metadata": {
  "kernelspec": {
   "display_name": "Python 3 (ipykernel)",
   "language": "python",
   "name": "python3"
  },
  "language_info": {
   "codemirror_mode": {
    "name": "ipython",
    "version": 3
   },
   "file_extension": ".py",
   "mimetype": "text/x-python",
   "name": "python",
   "nbconvert_exporter": "python",
   "pygments_lexer": "ipython3",
   "version": "3.9.18"
  }
 },
 "nbformat": 4,
 "nbformat_minor": 5
}
