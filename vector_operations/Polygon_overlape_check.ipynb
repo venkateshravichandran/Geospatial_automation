{
 "cells": [
  {
   "cell_type": "markdown",
   "id": "4a11017d-9937-4663-ac36-2c0f5546a296",
   "metadata": {},
   "source": [
    "# Polygon Overlape and road overlape check"
   ]
  },
  {
   "cell_type": "code",
   "execution_count": 13,
   "id": "d743f9f6-3eab-4038-99ef-8a303cc5511c",
   "metadata": {},
   "outputs": [],
   "source": [
    "import geopandas as gpd\n",
    "import pandas as pd\n",
    "\n",
    "def mark_overlapping_polygons(gdf_1,gdf_2):\n",
    "    if (gdf_1.crs =='EPSG:4326' and gdf_2.crs == 'EPSG:4326') is False:\n",
    "        gdf_1 = gdf_1.to_crs('EPSG:4326')\n",
    "        gdf_2 = gdf_2.to_crs('EPSG:4326')\n",
    "\n",
    "    gdf_1.reset_index(drop=True,inplace=True)\n",
    "    gdf_2.reset_index(drop=True,inplace=True)\n",
    "    # Add a new column to mark overlapping polygons\n",
    "    gdf_1['poly_overlap'] = 0\n",
    "\n",
    "    # Build the spatial index\n",
    "    spatial_index = gdf_1.sindex\n",
    "\n",
    "    # Check for overlapping polygons using the spatial index\n",
    "    for i, geometry1 in enumerate(gdf_1.geometry):\n",
    "        if gdf_1.at[i, 'poly_overlap'] == 1:\n",
    "            continue  # Skip if the polygon is already marked as overlapping\n",
    "        possible_overlaps = list(spatial_index.intersection(geometry1.bounds))\n",
    "        for j in possible_overlaps:\n",
    "            if i != j and geometry1.intersects(gdf_1.at[j, 'geometry']):\n",
    "                # Mark only the first overlapping polygon in the 'overlapping' column\n",
    "                gdf_1.at[i, 'poly_overlap'] = 1\n",
    "                gdf_1.at[j, 'poly_overlap'] = 1  # Mark the other as 0\n",
    "                break  # Stop checking other possible overlaps\n",
    "    intersection = gpd.overlay(gdf_1, gdf_2, how='intersection')\n",
    "    gdf_1['road_overlap'] = 0\n",
    "    gdf_1.loc[gdf_1.intersects(gdf_2.unary_union),'road_overlap'] = 1\n",
    "\n",
    "    return gdf_1"
   ]
  },
  {
   "cell_type": "code",
   "execution_count": null,
   "id": "1b103279-5b24-46b5-8a3f-45c6f0f444e6",
   "metadata": {},
   "outputs": [],
   "source": [
    "# Give both the shapefile path \n",
    "GT_path = \"E:/RnD/Task/GT_Cleaning/KAMAREDDY/GT_Polygons/kamareddy.shp\"\n",
    "road_osm = \"E:/RnD/Task/GT_Cleaning/KAMAREDDY/GT_Polygons/Road_kamreddy.shp\"\n",
    "# This will save the QC_checked file into GT folder path.. \n",
    "mark_overlapping_polygons(gpd.read_file(GT_path),gpd.read_file(road_osm)).to_file(GT_path.split('.')[0]+'_QC_Checked.shp')"
   ]
  },
  {
   "cell_type": "code",
   "execution_count": null,
   "id": "08d5efe7-75ed-41c6-bf17-952836a60a46",
   "metadata": {},
   "outputs": [],
   "source": [
    "# This will remove overlapping polygons and save it to GT folder path\n",
    "cleaned_file = mark_overlapping_polygons(gpd.read_file(GT_path),gpd.read_file(road_osm))\n",
    "cleaned_file.loc[(cleaned_file['poly_overlap']==0) & (cleaned_file['road_overlap']==0)].to_file(GT_path.split('.')[0]+'_QC_Cleaned.shp')"
   ]
  }
 ],
 "metadata": {
  "kernelspec": {
   "display_name": "Python 3 (ipykernel)",
   "language": "python",
   "name": "python3"
  },
  "language_info": {
   "codemirror_mode": {
    "name": "ipython",
    "version": 3
   },
   "file_extension": ".py",
   "mimetype": "text/x-python",
   "name": "python",
   "nbconvert_exporter": "python",
   "pygments_lexer": "ipython3",
   "version": "3.9.18"
  }
 },
 "nbformat": 4,
 "nbformat_minor": 5
}
